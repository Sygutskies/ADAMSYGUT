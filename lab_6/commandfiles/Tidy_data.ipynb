{
  "nbformat": 4,
  "nbformat_minor": 0,
  "metadata": {
    "colab": {
      "name": "Tidy_data.ipynb",
      "provenance": [],
      "collapsed_sections": []
    },
    "kernelspec": {
      "name": "python3",
      "display_name": "Python 3"
    },
    "language_info": {
      "name": "python"
    }
  },
  "cells": [
    {
      "cell_type": "code",
      "metadata": {
        "colab": {
          "base_uri": "https://localhost:8080/",
          "height": 203
        },
        "id": "5T9LajQ4-n7y",
        "outputId": "e70e9774-0909-4c81-99d0-d54e97ba88dc"
      },
      "source": [
        "import pandas as pd\n",
        "import numpy as np\n",
        "import copy \n",
        "\n",
        "ds = pd.read_csv('../originaldata/8_PODKARPACKIE.csv')"
      ],
      "execution_count": 2,
      "outputs": [
        {
          "output_type": "execute_result",
          "data": {
            "text/html": [
              "<div>\n",
              "<style scoped>\n",
              "    .dataframe tbody tr th:only-of-type {\n",
              "        vertical-align: middle;\n",
              "    }\n",
              "\n",
              "    .dataframe tbody tr th {\n",
              "        vertical-align: top;\n",
              "    }\n",
              "\n",
              "    .dataframe thead th {\n",
              "        text-align: right;\n",
              "    }\n",
              "</style>\n",
              "<table border=\"1\" class=\"dataframe\">\n",
              "  <thead>\n",
              "    <tr style=\"text-align: right;\">\n",
              "      <th></th>\n",
              "      <th>Unnamed: 0</th>\n",
              "      <th>Dni od zakupu</th>\n",
              "      <th>Marka</th>\n",
              "      <th>Wiek kupującego</th>\n",
              "      <th>Płeć kupującego</th>\n",
              "      <th>Ocena</th>\n",
              "    </tr>\n",
              "  </thead>\n",
              "  <tbody>\n",
              "    <tr>\n",
              "      <th>0</th>\n",
              "      <td>0</td>\n",
              "      <td>8</td>\n",
              "      <td>Tefal</td>\n",
              "      <td>NaN</td>\n",
              "      <td>bd.</td>\n",
              "      <td>1.5</td>\n",
              "    </tr>\n",
              "    <tr>\n",
              "      <th>1</th>\n",
              "      <td>1</td>\n",
              "      <td>6</td>\n",
              "      <td>Tefal</td>\n",
              "      <td>39.0</td>\n",
              "      <td>bd.</td>\n",
              "      <td>1.0</td>\n",
              "    </tr>\n",
              "    <tr>\n",
              "      <th>2</th>\n",
              "      <td>2</td>\n",
              "      <td>5</td>\n",
              "      <td>Dyson</td>\n",
              "      <td>35.0</td>\n",
              "      <td>bd.</td>\n",
              "      <td>1.5</td>\n",
              "    </tr>\n",
              "    <tr>\n",
              "      <th>3</th>\n",
              "      <td>3</td>\n",
              "      <td>8</td>\n",
              "      <td>Dyson</td>\n",
              "      <td>43.0</td>\n",
              "      <td>bd.</td>\n",
              "      <td>1.5</td>\n",
              "    </tr>\n",
              "    <tr>\n",
              "      <th>4</th>\n",
              "      <td>4</td>\n",
              "      <td>8</td>\n",
              "      <td>Beko</td>\n",
              "      <td>NaN</td>\n",
              "      <td>bd.</td>\n",
              "      <td>2.5</td>\n",
              "    </tr>\n",
              "  </tbody>\n",
              "</table>\n",
              "</div>"
            ],
            "text/plain": [
              "   Unnamed: 0  Dni od zakupu  Marka  Wiek kupującego Płeć kupującego  Ocena\n",
              "0           0              8  Tefal              NaN             bd.    1.5\n",
              "1           1              6  Tefal             39.0             bd.    1.0\n",
              "2           2              5  Dyson             35.0             bd.    1.5\n",
              "3           3              8  Dyson             43.0             bd.    1.5\n",
              "4           4              8   Beko              NaN             bd.    2.5"
            ]
          },
          "metadata": {},
          "execution_count": 2
        }
      ]
    },
    {
      "cell_type": "code",
      "metadata": {
        "colab": {
          "base_uri": "https://localhost:8080/",
          "height": 203
        },
        "id": "mEc9PTah-1c5",
        "outputId": "e54e4a70-345f-4713-98d2-e32a897b32c7"
      },
      "source": [
        "# Głęboka kopia oryginalnych danych\n",
        "ds_clear = copy.deepcopy(ds)\n",
        "\n",
        "# Mapowanie opisu 'bd.' na wartość None, wyświetlenie wyniku\n",
        "ds_clear['Płeć kupującego'] = ds_clear['Płeć kupującego'].map({'bd.': None, 'K': 'K', 'M': 'M'})\n",
        "ds_clear.head(5)"
      ],
      "execution_count": 6,
      "outputs": [
        {
          "output_type": "execute_result",
          "data": {
            "text/html": [
              "<div>\n",
              "<style scoped>\n",
              "    .dataframe tbody tr th:only-of-type {\n",
              "        vertical-align: middle;\n",
              "    }\n",
              "\n",
              "    .dataframe tbody tr th {\n",
              "        vertical-align: top;\n",
              "    }\n",
              "\n",
              "    .dataframe thead th {\n",
              "        text-align: right;\n",
              "    }\n",
              "</style>\n",
              "<table border=\"1\" class=\"dataframe\">\n",
              "  <thead>\n",
              "    <tr style=\"text-align: right;\">\n",
              "      <th></th>\n",
              "      <th>Unnamed: 0</th>\n",
              "      <th>Dni od zakupu</th>\n",
              "      <th>Marka</th>\n",
              "      <th>Wiek kupującego</th>\n",
              "      <th>Płeć kupującego</th>\n",
              "      <th>Ocena</th>\n",
              "    </tr>\n",
              "  </thead>\n",
              "  <tbody>\n",
              "    <tr>\n",
              "      <th>0</th>\n",
              "      <td>0</td>\n",
              "      <td>8</td>\n",
              "      <td>Tefal</td>\n",
              "      <td>NaN</td>\n",
              "      <td>None</td>\n",
              "      <td>1.5</td>\n",
              "    </tr>\n",
              "    <tr>\n",
              "      <th>1</th>\n",
              "      <td>1</td>\n",
              "      <td>6</td>\n",
              "      <td>Tefal</td>\n",
              "      <td>39.0</td>\n",
              "      <td>None</td>\n",
              "      <td>1.0</td>\n",
              "    </tr>\n",
              "    <tr>\n",
              "      <th>2</th>\n",
              "      <td>2</td>\n",
              "      <td>5</td>\n",
              "      <td>Dyson</td>\n",
              "      <td>35.0</td>\n",
              "      <td>None</td>\n",
              "      <td>1.5</td>\n",
              "    </tr>\n",
              "    <tr>\n",
              "      <th>3</th>\n",
              "      <td>3</td>\n",
              "      <td>8</td>\n",
              "      <td>Dyson</td>\n",
              "      <td>43.0</td>\n",
              "      <td>None</td>\n",
              "      <td>1.5</td>\n",
              "    </tr>\n",
              "    <tr>\n",
              "      <th>4</th>\n",
              "      <td>4</td>\n",
              "      <td>8</td>\n",
              "      <td>Beko</td>\n",
              "      <td>NaN</td>\n",
              "      <td>None</td>\n",
              "      <td>2.5</td>\n",
              "    </tr>\n",
              "  </tbody>\n",
              "</table>\n",
              "</div>"
            ],
            "text/plain": [
              "   Unnamed: 0  Dni od zakupu  Marka  Wiek kupującego Płeć kupującego  Ocena\n",
              "0           0              8  Tefal              NaN            None    1.5\n",
              "1           1              6  Tefal             39.0            None    1.0\n",
              "2           2              5  Dyson             35.0            None    1.5\n",
              "3           3              8  Dyson             43.0            None    1.5\n",
              "4           4              8   Beko              NaN            None    2.5"
            ]
          },
          "metadata": {},
          "execution_count": 6
        }
      ]
    },
    {
      "cell_type": "code",
      "metadata": {
        "id": "nLVkgPPK-7z4"
      },
      "source": [
        "# Zapis do nowego pliku csv\n",
        "ds_clear.to_csv(path_or_buf='../analisysdata/podkarpackie_clean.csv', index=False)"
      ],
      "execution_count": 7,
      "outputs": []
    }
  ]
}