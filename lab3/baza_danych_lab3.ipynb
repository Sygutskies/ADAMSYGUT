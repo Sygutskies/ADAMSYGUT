{
 "cells": [
  {
   "cell_type": "code",
   "execution_count": 1,
   "metadata": {
    "colab": {
     "base_uri": "https://localhost:8080/"
    },
    "id": "hz-TTNG7LSc1",
    "outputId": "14d1d323-9379-4a05-973b-2b4587082db9"
   },
   "outputs": [
    {
     "name": "stdout",
     "output_type": "stream",
     "text": [
      "Requirement already satisfied: sqlalchemy in c:\\users\\adams\\anaconda3\\lib\\site-packages (1.3.9)\n",
      "Requirement already satisfied: psycopg2 in c:\\users\\adams\\anaconda3\\lib\\site-packages (2.9.1)\n",
      "Requirement already satisfied: pandas in c:\\users\\adams\\anaconda3\\lib\\site-packages (0.25.1)\n",
      "Requirement already satisfied: python-dateutil>=2.6.1 in c:\\users\\adams\\anaconda3\\lib\\site-packages (from pandas) (2.8.0)\n",
      "Requirement already satisfied: numpy>=1.13.3 in c:\\users\\adams\\anaconda3\\lib\\site-packages (from pandas) (1.16.5)\n",
      "Requirement already satisfied: pytz>=2017.2 in c:\\users\\adams\\anaconda3\\lib\\site-packages (from pandas) (2019.3)\n",
      "Requirement already satisfied: six>=1.5 in c:\\users\\adams\\anaconda3\\lib\\site-packages (from python-dateutil>=2.6.1->pandas) (1.12.0)\n",
      "Note: you may need to restart the kernel to use updated packages.\n"
     ]
    }
   ],
   "source": [
    "pip install sqlalchemy psycopg2 pandas"
   ]
  },
  {
   "cell_type": "code",
   "execution_count": 2,
   "metadata": {
    "id": "8BZGG0ASLYyM"
   },
   "outputs": [],
   "source": [
    "from sqlalchemy import create_engine\n"
   ]
  },
  {
   "cell_type": "code",
   "execution_count": 3,
   "metadata": {
    "colab": {
     "base_uri": "https://localhost:8080/"
    },
    "id": "0QUbWbivMRBC",
    "outputId": "96a8fc59-b5bf-4721-a3e8-2bbbf935a478"
   },
   "outputs": [],
   "source": [
    "import psycopg2 as pg\n",
    "import pandas as pd\n",
    "\n",
    "connection = pg.connect(host='pgsql-196447.vipserv.org', port=5432, dbname='wbauer_adb', user='wbauer_adb', password='adb2020')"
   ]
  },
  {
   "cell_type": "code",
   "execution_count": 27,
   "metadata": {
    "colab": {
     "base_uri": "https://localhost:8080/"
    },
    "id": "g7jX4r01OHb_",
    "outputId": "8896ca14-9a2d-4211-d528-a6fb1b454250"
   },
   "outputs": [
    {
     "name": "stdout",
     "output_type": "stream",
     "text": [
      "Ilość kategorii to:\n",
      "category_id    16\n",
      "dtype: int64\n"
     ]
    }
   ],
   "source": [
    "#ZAD1\n",
    "df = pd.read_sql(\"select distinct category_id from film_category order by category_id DESC\",con=connection)\n",
    "print(\"Ilość kategorii to:\")\n",
    "print(df.count())\n"
   ]
  },
  {
   "cell_type": "code",
   "execution_count": 28,
   "metadata": {
    "colab": {
     "base_uri": "https://localhost:8080/"
    },
    "id": "uAicdEzOOZnT",
    "outputId": "835d68dd-f0e8-48ad-f2a7-9818d7563949"
   },
   "outputs": [
    {
     "name": "stdout",
     "output_type": "stream",
     "text": [
      "           name\n",
      "0        Action\n",
      "1     Animation\n",
      "2      Children\n",
      "3      Classics\n",
      "4        Comedy\n",
      "5   Documentary\n",
      "6         Drama\n",
      "7        Family\n",
      "8       Foreign\n",
      "9         Games\n",
      "10       Horror\n",
      "11        Music\n",
      "12          New\n",
      "13       Sci-Fi\n",
      "14       Sports\n",
      "15       Travel\n"
     ]
    }
   ],
   "source": [
    "#ZAD2\n",
    "df = pd.read_sql(\"select name from category order by name ASC\",con=connection)\n",
    "print(df)"
   ]
  },
  {
   "cell_type": "code",
   "execution_count": 29,
   "metadata": {
    "colab": {
     "base_uri": "https://localhost:8080/"
    },
    "id": "WqhQaWbOVxP8",
    "outputId": "7e5138c6-6809-4cd1-9bad-db17f581f958"
   },
   "outputs": [
    {
     "name": "stdout",
     "output_type": "stream",
     "text": [
      "Najmlodszy\n",
      "Chamber Italian\n",
      "Najstarszy\n",
      "999    Zorro Ark\n",
      "999    Zorro Ark\n",
      "Name: title, dtype: object\n"
     ]
    }
   ],
   "source": [
    "#ZAD3\n",
    "df = pd.read_sql(\"select title, release_year from film order by release_year ASC\",con=connection)\n",
    "print(\"Najmlodszy\")\n",
    "print(df[\"title\"][0])\n",
    "print(\"Najstarszy\")\n",
    "print(df['title'][df.count()-1])"
   ]
  },
  {
   "cell_type": "code",
   "execution_count": 23,
   "metadata": {},
   "outputs": [
    {
     "name": "stdout",
     "output_type": "stream",
     "text": [
      "Ilość wypożyczeń między 2005-07-01 a 2005-08-01\n",
      "   count\n",
      "0   6709\n"
     ]
    }
   ],
   "source": [
    "#ZAD4\n",
    "df = pd.read_sql(\"select count(*) from rental where rental_date between '2005-07-01'::timestamp and '2005-08-01'::timestamp\",con=connection)\n",
    "print(\"Ilość wypożyczeń między 2005-07-01 a 2005-08-01\")\n",
    "print(df)"
   ]
  },
  {
   "cell_type": "code",
   "execution_count": 25,
   "metadata": {},
   "outputs": [
    {
     "name": "stdout",
     "output_type": "stream",
     "text": [
      "Ilość wypożyczeń między 2010-01-01 a 2011-02-01\n",
      "   count\n",
      "0      0\n"
     ]
    }
   ],
   "source": [
    "#ZAD5\n",
    "df = pd.read_sql(\"select count(*) from rental where rental_date between '2010-01-01'::timestamp and '2011-02-01'::timestamp\",con=connection)\n",
    "print(\"Ilość wypożyczeń między 2010-01-01 a 2011-02-01\")\n",
    "print(df)"
   ]
  },
  {
   "cell_type": "code",
   "execution_count": 30,
   "metadata": {
    "colab": {
     "base_uri": "https://localhost:8080/",
     "height": 132
    },
    "id": "n6TuOYIiXiYX",
    "outputId": "aa14f5a3-92c2-496e-8047-08c14b1b2e41"
   },
   "outputs": [
    {
     "name": "stdout",
     "output_type": "stream",
     "text": [
      "       rental_id  amount\n",
      "0          14763   11.99\n",
      "1           3973   11.99\n",
      "2           8831   11.99\n",
      "3          15415   11.99\n",
      "4           4383   11.99\n",
      "...          ...     ...\n",
      "14591      11782    0.00\n",
      "14592      12352    0.00\n",
      "14593      15717    0.00\n",
      "14594      15407    0.00\n",
      "14595      13577    0.00\n",
      "\n",
      "[14596 rows x 2 columns]\n",
      "Najwieksza opłata za wypożyczenie to\n",
      "11.99\n"
     ]
    }
   ],
   "source": [
    "#ZAD6\n",
    "df = pd.read_sql(\"select rental_id, amount from payment order by amount DESC\",con=connection)\n",
    "print(df)\n",
    "print(\"Najwieksza opłata za wypożyczenie to\")\n",
    "print(df[\"amount\"][0])"
   ]
  },
  {
   "cell_type": "code",
   "execution_count": 37,
   "metadata": {},
   "outputs": [
    {
     "name": "stdout",
     "output_type": "stream",
     "text": [
      "Klienci z Polski, Nigerii i Bangladeszu\n",
      "   first_name  last_name     country\n",
      "0       Sonia    Gregory     Nigeria\n",
      "1       Brian      Wyman      Poland\n",
      "2      Sidney   Burleson      Poland\n",
      "3      Rodney    Moeller     Nigeria\n",
      "4     Stephen     Qualls  Bangladesh\n",
      "5       Velma      Lucas     Nigeria\n",
      "6     Marilyn       Ross     Nigeria\n",
      "7       Elsie     Kelley     Nigeria\n",
      "8      Gladys   Hamilton     Nigeria\n",
      "9       Frank   Waggoner  Bangladesh\n",
      "10   Marjorie     Tucker      Poland\n",
      "11      Carol     Garcia     Nigeria\n",
      "12       Leah     Curtis      Poland\n",
      "13      Ruben      Geary      Poland\n",
      "14       Olga    Jimenez     Nigeria\n",
      "15     Bertha   Ferguson     Nigeria\n",
      "16     Tracey    Barrett     Nigeria\n",
      "17         Jo     Fowler     Nigeria\n",
      "18    Johnnie   Chisholm      Poland\n",
      "19    Wallace      Slone     Nigeria\n",
      "20   Michelle      Clark  Bangladesh\n",
      "21    Russell    Brinson      Poland\n",
      "22     Jimmie  Eggleston      Poland\n",
      "23  Constance       Reid     Nigeria\n"
     ]
    }
   ],
   "source": [
    "#ZAD7\n",
    "df = pd.read_sql(\"select customer.first_name, customer. last_name, \\\n",
    "                           country.country \\\n",
    "                           from country \\\n",
    "                           left join city \\\n",
    "                           on country.country_id = city.country_id \\\n",
    "                           left join address \\\n",
    "                           on city.city_id = address.city_id \\\n",
    "                           left join customer \\\n",
    "                           on address.address_id = customer.address_id \\\n",
    "                           where country.country in ('Poland', 'Nigeria', 'Bangladesh') \\\n",
    "                           \",\n",
    "                           con=connection)\n",
    "print(\"Klienci z Polski, Nigerii i Bangladeszu\")\n",
    "print(df)"
   ]
  },
  {
   "cell_type": "code",
   "execution_count": 43,
   "metadata": {},
   "outputs": [
    {
     "name": "stdout",
     "output_type": "stream",
     "text": [
      "Adresy zamieszkania personelu\n",
      "  first_name last_name    country        city               address\n",
      "0       Mike   Hillyer     Canada  Lethbridge     23 Workhaven Lane\n",
      "1        Jon  Stephens  Australia   Woodridge  1411 Lillydale Drive\n"
     ]
    }
   ],
   "source": [
    "#ZAD8\n",
    "df = pd.read_sql(\"select staff.first_name, staff.last_name, \\\n",
    "                           country, city, address.address \\\n",
    "                           from staff \\\n",
    "                           left join address \\\n",
    "                           on staff.address_id = address.address_id \\\n",
    "                           left join city \\\n",
    "                            on address.city_id = city.city_id \\\n",
    "                            left join country \\\n",
    "                            on city.country_id = country.country_id\", \n",
    "                           con=connection)\n",
    "print(\"Adresy zamieszkania personelu\")\n",
    "print(df)"
   ]
  },
  {
   "cell_type": "code",
   "execution_count": 45,
   "metadata": {},
   "outputs": [
    {
     "name": "stdout",
     "output_type": "stream",
     "text": [
      "Liczba pracowników mieszkających w Hiszpanii lub Argentynie\n",
      "   count\n",
      "0      0\n"
     ]
    }
   ],
   "source": [
    "#ZAD9\n",
    "df = pd.read_sql(\"select count(*) \\\n",
    "                                  from staff \\\n",
    "                                  left join address \\\n",
    "                                  on staff.address_id = address.address_id \\\n",
    "                                  left join city \\\n",
    "                                  on address.city_id = city.city_id \\\n",
    "                                  left join country \\\n",
    "                                  on city.country_id = country.country_id \\\n",
    "                                  where country.country in ('Argentina', 'Spain')\",\n",
    "                                  con=connection)\n",
    "print(\"Liczba pracowników mieszkających w Hiszpanii lub Argentynie\")\n",
    "print(df)"
   ]
  },
  {
   "cell_type": "code",
   "execution_count": 48,
   "metadata": {},
   "outputs": [
    {
     "name": "stdout",
     "output_type": "stream",
     "text": [
      "Kategorie filmów wypożyczone przez klientów\n",
      "           name  count\n",
      "0        Action   1112\n",
      "1     Animation   1166\n",
      "2      Children    945\n",
      "3      Classics    939\n",
      "4        Comedy    941\n",
      "5   Documentary   1050\n",
      "6         Drama   1060\n",
      "7        Family   1096\n",
      "8       Foreign   1033\n",
      "9         Games    969\n",
      "10       Horror    846\n",
      "11        Music    830\n",
      "12          New    940\n",
      "13       Sci-Fi   1101\n",
      "14       Sports   1179\n",
      "15       Travel    837\n"
     ]
    }
   ],
   "source": [
    "#ZAD10\n",
    "df = pd.read_sql(\"select distinct category.name, count(category.name) \\\n",
    "                                    from rental \\\n",
    "                                    left join inventory \\\n",
    "                                    on rental.inventory_id = inventory.inventory_id \\\n",
    "                                    left join film \\\n",
    "                                    on inventory.film_id = film.film_id \\\n",
    "                                    left join film_category \\\n",
    "                                    on film.film_id = film_category.film_id \\\n",
    "                                    left join category \\\n",
    "                                    on film_category.category_id = category.category_id \\\n",
    "                                    group by category.name\",\n",
    "                                    con=connection)\n",
    "print(\"Kategorie filmów wypożyczone przez klientów\")\n",
    "print(df)"
   ]
  },
  {
   "cell_type": "code",
   "execution_count": 51,
   "metadata": {},
   "outputs": [
    {
     "name": "stdout",
     "output_type": "stream",
     "text": [
      "Kategorie wypożyczone w Ameryce\n",
      "           name  count\n",
      "0        Action     62\n",
      "1     Animation     68\n",
      "2      Children     56\n",
      "3      Classics     54\n",
      "4        Comedy     59\n",
      "5   Documentary     74\n",
      "6         Drama     69\n",
      "7        Family     66\n",
      "8       Foreign     64\n",
      "9         Games     60\n",
      "10       Horror     62\n",
      "11        Music     51\n",
      "12          New     55\n",
      "13       Sci-Fi     62\n",
      "14       Sports     73\n",
      "15       Travel     33\n"
     ]
    }
   ],
   "source": [
    "#ZAD11\n",
    "df = pd.read_sql(\"select distinct category.name, count(category.name) \\\n",
    "                                              from rental \\\n",
    "                                              left join inventory \\\n",
    "                                              on rental.inventory_id = inventory.inventory_id \\\n",
    "                                              left join film \\\n",
    "                                              on inventory.film_id = film.film_id \\\n",
    "                                              left join film_category \\\n",
    "                                              on film.film_id = film_category.film_id \\\n",
    "                                              left join category \\\n",
    "                                              on film_category.category_id = category.category_id \\\n",
    "                                              left join customer \\\n",
    "                                              on customer.customer_id = rental.customer_id \\\n",
    "                                              left join address \\\n",
    "                                              on address.address_id = customer.address_id \\\n",
    "                                              left join city \\\n",
    "                                              on address.city_id = city.city_id \\\n",
    "                                              left join country \\\n",
    "                                              on country.country_id = city.country_id \\\n",
    "                                              where country.country in ('United States') \\\n",
    "                                              group by category.name \\\n",
    "                                              \",\n",
    "                                              con=connection)\n",
    "print(\"Kategorie wypożyczone w Ameryce\")\n",
    "print(df)"
   ]
  },
  {
   "cell_type": "code",
   "execution_count": 52,
   "metadata": {},
   "outputs": [
    {
     "name": "stdout",
     "output_type": "stream",
     "text": [
      "Filmy w których zagrali Olympia Pfeiffer lub Julia Zellweger lub Ellen Presley\n",
      "                title first_name  last_name\n",
      "0     Bilko Anonymous      Ellen    Presley\n",
      "1   Caribbean Liberty      Ellen    Presley\n",
      "2    Casper Dragonfly      Ellen    Presley\n",
      "3    Empire Malkovich      Ellen    Presley\n",
      "4       Floats Garden      Ellen    Presley\n",
      "..                ...        ...        ...\n",
      "64       Outlaw Hanky      Julia  Zellweger\n",
      "65    Panky Submarine      Julia  Zellweger\n",
      "66   Rider Caddyshack      Julia  Zellweger\n",
      "67          Won Dares      Julia  Zellweger\n",
      "68      Wyoming Storm      Julia  Zellweger\n",
      "\n",
      "[69 rows x 3 columns]\n"
     ]
    }
   ],
   "source": [
    "#ZAD12\n",
    "df = pd.read_sql(\"select film.title, actor.first_name, actor.last_name \\\n",
    "                        from film \\\n",
    "                        left join film_actor \\\n",
    "                        on film.film_id = film_actor.film_id \\\n",
    "                        left join actor \\\n",
    "                        on film_actor.actor_id = actor.actor_id \\\n",
    "                        where (actor.first_name = 'Olympia' and actor.last_name = 'Pfeiffer') or \\\n",
    "                              (actor.first_name = 'Julia' and actor.last_name = 'Zellweger') or \\\n",
    "                              (actor.first_name = 'Ellen' and actor.last_name = 'Presley') \\\n",
    "                        \", con=connection)\n",
    "print(\"Filmy w których zagrali Olympia Pfeiffer lub Julia Zellweger lub Ellen Presley\")\n",
    "print(df)"
   ]
  },
  {
   "cell_type": "code",
   "execution_count": null,
   "metadata": {},
   "outputs": [],
   "source": []
  },
  {
   "cell_type": "code",
   "execution_count": null,
   "metadata": {},
   "outputs": [],
   "source": []
  }
 ],
 "metadata": {
  "colab": {
   "collapsed_sections": [],
   "name": "Untitled0.ipynb",
   "provenance": []
  },
  "kernelspec": {
   "display_name": "Python 3",
   "language": "python",
   "name": "python3"
  },
  "language_info": {
   "codemirror_mode": {
    "name": "ipython",
    "version": 3
   },
   "file_extension": ".py",
   "mimetype": "text/x-python",
   "name": "python",
   "nbconvert_exporter": "python",
   "pygments_lexer": "ipython3",
   "version": "3.7.4"
  }
 },
 "nbformat": 4,
 "nbformat_minor": 1
}
