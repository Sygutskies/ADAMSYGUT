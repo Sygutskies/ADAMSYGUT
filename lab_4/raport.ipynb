{
 "cells": [
  {
   "cell_type": "markdown",
   "metadata": {},
   "source": [
    "# <center>Laboratorium Analiza i bazy danych </center>\n",
    "\n",
    "## <center>Łączenie tabel, podzapytania i funkcje agregujące</center>"
   ]
  },
  {
   "cell_type": "markdown",
   "metadata": {},
   "source": [
    "## Przykładowe tabele obrazujące łączenie\n",
    "\n",
    "Do zobrazowania operacji łączenia zostaną użyte tabele:\n",
    "\n",
    "```sql\n",
    "CREATE TABLE shape_a (\n",
    "    id INT PRIMARY KEY,\n",
    "    shape VARCHAR (100) NOT NULL\n",
    ");\n",
    " \n",
    "CREATE TABLE shape_b (\n",
    "    id INT PRIMARY KEY,\n",
    "    shape VARCHAR (100) NOT NULL\n",
    ");\n",
    "```\n",
    " \n",
    "Polecenie CREATE TABLE tworzy tabelę o zadanej nazwie i strukturze. Ogólna postać to:\n",
    "```sql\n",
    "CREATE TABLE tab_name (\n",
    "    col_name1 data_type constrain,\n",
    "    col_name1 data_type constrain,\n",
    "    ...\n",
    ");\n",
    "```\n",
    "Należy uzupełnić ją danymi:\n",
    "```sql\n",
    "INSERT INTO shape_a (id, shape)\n",
    "VALUES\n",
    "    (1, 'Trójkąt'),\n",
    "    (2, 'Kwadrat'),\n",
    "    (3, 'Deltoid'),\n",
    "    (4, 'Traper');\n",
    " \n",
    "INSERT INTO shape_b (id, shape)\n",
    "VALUES\n",
    "    (1, 'Kwadrat'),\n",
    "    (2, 'Trójkąt'),\n",
    "    (3, 'Romb'),\n",
    "    (4, 'Równoległobok');\n",
    "```\n",
    "Komenda INSERT INTO pozwala na dodanie do tabeli rekordów. Ogólna postać to:\n",
    "\n",
    "```sql\n",
    "INSERT INTO tab_name (col1_name, col2_name2, ...) \n",
    "VALUES\n",
    "    (val1_col1, val2_col2),\n",
    "    (val2_col1, val2_col2),\n",
    "    ...\n",
    "```"
   ]
  },
  {
   "cell_type": "markdown",
   "metadata": {},
   "source": [
    "## Inner join \n",
    "\n",
    "Jest to podstawowy rodzaj złączenie. Ten sposób złączenia wybiera  te wiersze, dla których warunek złączenia jest spełniony. W żadnej z łączonych tabel kolumna użyta do łączenia nie może mieć wartości NULL. \n",
    "\n",
    "#### Przykład:\n",
    "```sql\n",
    "SELECT\n",
    "    a.id id_a,\n",
    "    a.shape shape_a,\n",
    "    b.id id_b,\n",
    "    b.shape shape_b\n",
    "FROM\n",
    "    shape_a a\n",
    "INNER JOIN shape_b b ON a.shape = b.shape;\n",
    "```\n",
    "W zapytaniu powyżej użyto *aliasów* nazw tabel i column wynikowych, jest to szczególnie przydatne przy długich nazwach tabel i wprowadza czytelność w zapytaniu.\n",
    "\n",
    "#### Wynik:\n",
    "|id_a|shape_a|id_b|shape_b|\n",
    "|-|-|-|-|\n",
    "|1|Trójkąt|2|Trójkąt|\n",
    "|2|Kwadrat|1|Kwadrat|"
   ]
  },
  {
   "cell_type": "markdown",
   "metadata": {},
   "source": [
    "## OUTER JOIN\n",
    "\n",
    "Istnieją trzy rodzaje złączeń OUTER:\n",
    "- LEFT OUTER JOIN,\n",
    "- RIGHT OUTER JOIN,\n",
    "- FULL OUTER JOIN.\n",
    "\n",
    "### LEFT OUTER JOIN\n",
    "\n",
    "Ten rodzaj złączenie zwróci wszystkie rekordy z lewej tablicy i dopasuje do nich rekordy z prawej tablicy które spełniją zadany warunek złączenia. Jeżeli w prawej tablicy nie występują rekordy spełnijące warunek złączenia z lewą w ich miejscu pojawią się wartości NULL.\n",
    "\n",
    "#### Przykład 1:\n",
    "```sql\n",
    "SELECT\n",
    "    a.id id_a,\n",
    "    a.shape shape_a,\n",
    "    b.id id_b,\n",
    "    b.shape shape_b\n",
    "FROM\n",
    "    shape_a a\n",
    "LEFT JOIN shape_b b ON a.shape = b.shape;\n",
    "```\n",
    "#### Wynik:\n",
    "|id_a|shape_a|id_b|shape_b|\n",
    "|-|-|-|-|\n",
    "|1|Trójkąt|2|Trójkąt|\n",
    "|2|Kwadrat|1|Kwadrat|\n",
    "|3|Deltoid|NULL|NULL|\n",
    "|4|Traper|NULL|NULL|\n",
    "\n",
    "#### Przykład 2:\n",
    "```sql\n",
    "SELECT\n",
    "    b.id id_b,\n",
    "    b.shape shape_b,\n",
    "    a.id id_a,\n",
    "    a.shape shape_a   \n",
    "FROM\n",
    "    shape_b b\n",
    "LEFT JOIN shape_a a ON a.shape = b.shape;\n",
    "```\n",
    "#### Wynik:\n",
    "|id_a|shape_a|id_b|shape_b|\n",
    "|-|-|-|-|\n",
    "|1|Kwadrat|2|Kwadrat|\n",
    "|2|Trójkąt|1|Trójkąt|\n",
    "|3|Romb|NULL|NULL|\n",
    "|4|Równoległobok|NULL|NULL|\n",
    "\n",
    "### RIGHT OUTER JOIN\n",
    "\n",
    "Działa jak left outer join z tym, że prawa tablica w zapytaniu jest brana w całości.\n",
    "\n",
    "#### Przykład:\n",
    "```sql\n",
    "SELECT\n",
    "    a.id id_a,\n",
    "    a.shape shape_a,\n",
    "    b.id id_b,\n",
    "    b.shape shape_b\n",
    "FROM\n",
    "    shape_a a\n",
    "RIGHT JOIN shape_b b ON a.shape = b.shape;\n",
    "```\n",
    "\n",
    "#### Wynik:\n",
    "|id_a|shape_a|id_b|shape_b|\n",
    "|-|-|-|-|\n",
    "|2|Kwadrat|1|Kwadrat|\n",
    "|1|Trójkąt|2|Trójkąt|\n",
    "|NULL|NULL|3|Romb|\n",
    "|NULL|NULL|4|Równoległobok|\n",
    "\n",
    "\n",
    "### FULL OUTER JOIN\n",
    "\n",
    "Jest złączeniem które zwraca:\n",
    "- wiersze dla których warunek złączenia jest spełniony,\n",
    "- wiersze z lewej tabeli dla których nie ma odpowiedników w prawej,\n",
    "- wiersze z prawej tabeli dla których nie ma odpowiedników w lewej. \n",
    "\n",
    "#### Przykład:\n",
    "```sql\n",
    "SELECT\n",
    "    a.id id_a,\n",
    "    a.shape shape_a,\n",
    "    b.id id_b,\n",
    "    b.shape shape_b\n",
    "FROM\n",
    "    shape_a a\n",
    "FULL JOIN shape_b b ON a.shape = b.shape;\n",
    "```\n",
    "|id_a|shape_a|id_b|shape_b|\n",
    "|-|-|-|-|\n",
    "|1|Trójkąt|2|Trójkąt|\n",
    "|2|Kwadrat|1|Kwadrat|\n",
    "|3|Deltoid\"|NULL|NULL|\n",
    "|4|Traper|NULL|NULL|\n",
    "|NULL|NULL|3|Romb|\n",
    "|NULL|NULL|4|Równoległobok|"
   ]
  },
  {
   "cell_type": "markdown",
   "metadata": {},
   "source": [
    "## Podzapytania\n",
    "\n",
    "Podzapytanie zagnieżdżone SELECT znajduje się wewnątrz zewnętrznego zapytania SELECT, np. po klauzuli WHERE, HAVING lub FROM. W przypadku tego rodzaju zapytań w pierwszej kolejności wykonywane są wewnętrzne zapytania SELECT, a ich wynik jest wykorzystywany do zewnętrznego zapytania SELECT. Stąd łatwo zuważyć, że mogą one służyć do poprawy wydajności obsługi zapytania. Należy dobierać podzapytania tak by najbardziej zagnieżdżone podzapytanie zawierało najmniejszy zbiór poszukiwań. \n",
    "\n",
    "#### Przykład:\n",
    "Jeżeli chcemy znaleźć w bazie informację o tytułach filmów zwróconych w zadanym okresie możemy wykonać następujące zapytanie:\n",
    "```sql\n",
    "SELECT\n",
    "   film_id,\n",
    "   title\n",
    "FROM\n",
    "   film\n",
    "WHERE\n",
    "   film_id IN (\n",
    "      SELECT\n",
    "         inventory.film_id\n",
    "      FROM\n",
    "         rental\n",
    "      INNER JOIN inventory ON inventory.inventory_id = rental.inventory_id\n",
    "      WHERE\n",
    "         return_date BETWEEN '2005-05-29'\n",
    "      AND '2005-05-30'\n",
    "   );\n",
    "```\n",
    "\n",
    "#### Wynik\n",
    "|film_id|title|\n",
    "|-|-|\n",
    "|307|Fellowship Autumn|\n",
    "|255|Driving Polish|\n",
    "|388|Gunfight Moon|\n",
    "|130|Celebrity Horn|\n",
    "|563|Massacre Usual|\n",
    "|397|Hanky October|\n",
    "|...|...|\n",
    "\n",
    "### Używanie podzapytań\n",
    "\n",
    "Pod zapytania mogą być używane w :\n",
    "- SELECT,\n",
    "- UPDATE,\n",
    "- DELETE,\n",
    "- Funkcjach agregujących,\n",
    "- Do definiowania tabel tymczasowych.\n",
    "\n",
    "Używając podzapytań zapytania SQL szybko mogą stać się mało czytelne. Przez co będą trudne w zrozumieniu i późniejszym utrzymaniu. W celu analizy zapytań można użyć klauzuli __EXPLAIN__, która przeanalizuje zapytanie. Klauzula ta może służyć również do porównywania wydajności zapytań\n",
    "\n",
    "#### Przykład:\n",
    "```sql\n",
    "EXPLAIN SELECT\n",
    "   *\n",
    "FROM\n",
    "   film\n",
    "```"
   ]
  },
  {
   "cell_type": "markdown",
   "metadata": {},
   "source": [
    "## Funkcje agregujące\n",
    "\n",
    "Funkcje agregujące wykonują obliczenia na zestawie wierszy i zwracają pojedynczy wiersz. PostgreSQL udostępnia wszystkie standardowe funkcje agregujące SQL w następujący sposób:\n",
    "- AVG () - zwraca średnią wartość.\n",
    "- COUNT () - zwraca liczbę wartości.\n",
    "- MAX () - zwraca maksymalną wartość.\n",
    "- MIN () - zwraca minimalną wartość.\n",
    "- SUM () - zwraca sumę wszystkich lub różnych wartości.\n",
    "\n",
    "Pełna lista funkcji agregującej: https://www.postgresql.org/docs/9.5/functions-aggregate.html\n",
    "\n",
    "Często używamy funkcji agregujących z klauzulą GROUP BY w instrukcji SELECT. W tych przypadkach klauzula GROUP BY dzieli zestaw wyników na grupy wierszy i funkcja agregująca wykonuje obliczenia dla każdej grupy, np. maksimum, minimum, średnia itp. Funkcji agregujących można używać funkcji agregujących jako wyrażeń tylko w następujących klauzulach: SELECT i HAVING.\n",
    "\n",
    "### GROUP BY\n",
    "Klauzula GROUP BY dzieli wiersze zwrócone z instrukcji SELECT na grupy. Dla  każdej grupy można zastosować funkcję agregującą, np. SUM aby obliczyć sumę pozycji lub\n",
    "COUNT aby uzyskać liczbę elementów w grupach.\n",
    "\n",
    "Poniższa instrukcja ilustruje składnię klauzuli GROUP BY:\n",
    "```sql\n",
    "SELECT \n",
    "    column_1, \n",
    "    aggregate_function(column_2)\n",
    "FROM \n",
    "    tbl_name\n",
    "GROUP BY \n",
    "    column_1;\n",
    "```\n",
    "Klauzula GROUP BY musi pojawić się zaraz po klauzuli FROM lub WHERE, n0astępnie GROUP BY zawiera listę  kolumna oddzielonych przecinkami. \n",
    "\n",
    "### HAVING\n",
    "Często używamy klauzuli HAVING w połączeniu z klauzulą GROUP BY do filtrowania wierszy grup\n",
    "które nie spełniają określonego warunku.\n",
    "\n",
    "Poniższa instrukcja ilustruje typową składnię klauzuli HAVING:\n",
    "```sql\n",
    "SELECT\n",
    "    column_1,\n",
    "    aggregate_function (column_2)\n",
    "FROM\n",
    "    tbl_name\n",
    "GROUP BY\n",
    "    column_1\n",
    "HAVING\n",
    "    condition;\n",
    "```\n",
    "Klauzula HAVING ustawia warunek dla wierszy grup utworzonych przez klauzulę GROUP BY.  \n",
    "\n",
    "Klauzula GROUP BY ma zastosowanie, podczas gdy klauzula WHERE określa wcześniej warunki dla poszczególnych wierszy."
   ]
  },
  {
   "cell_type": "markdown",
   "metadata": {},
   "source": [
    "## Zadania wprowadzające\n",
    "Wykonaj zapytania przy użyciu DBMS:  \n",
    "  \n",
    "1. Znajdź listę wszystkich filmów o tej samej długości.\n",
    "2. Znajdź wszystkich klientów mieszkających w tym samym mieście.\n",
    "3. Oblicz średni koszt wypożyczenia wszystkich filmów.\n",
    "4. Oblicz i wyświetl liczbę filmów we wszystkich kategoriach.\n",
    "5. Wyświetl liczbę wszystkich klientów pogrupowanych według kraju.\n",
    "6. Wyświetl informacje o sklepie, który ma więcej niż 100 klientów i mniej niż 300 klientów.\n",
    "7. Wybierz wszystkich klientów, którzy oglądali filmy ponad 200 godzin.\n",
    "8. Oblicz średnią wartość wypożyczenia filmu.\n",
    "9. Oblicz średnią wartość długości filmu we wszystkich kategoriach.\n",
    "10. Znajdź najdłuższe tytuły filmowe we wszystkich kategoriach.\n",
    "11. Znajdź najdłuższy film we wszystkich kategoriach. Porównaj wynik z pkt 10."
   ]
  },
  {
   "cell_type": "markdown",
   "metadata": {},
   "source": [
    "## Zadanie implementacyjne\n",
    "Zaimplementuj wszystkie funkcje w pliku main.py zgodnie z opisem a następnie przetestuj je w notatniku."
   ]
  },
  {
   "cell_type": "code",
   "execution_count": 4,
   "metadata": {},
   "outputs": [
    {
     "name": "stdout",
     "output_type": "stream",
     "text": [
      "     length  count\n",
      "0        46      5\n",
      "1        47      7\n",
      "2        48     11\n",
      "3        49      5\n",
      "4        50      9\n",
      "..      ...    ...\n",
      "135     181     10\n",
      "136     182      6\n",
      "137     183      5\n",
      "138     184      8\n",
      "139     185     10\n",
      "\n",
      "[140 rows x 2 columns]\n"
     ]
    }
   ],
   "source": [
    "import main\n",
    "import main\n",
    "\n",
    "import psycopg2 as pg\n",
    "import pandas as pd\n",
    "#ZAD1\n",
    "connection = pg.connect(host='pgsql-196447.vipserv.org', port=5432, dbname='wbauer_adb', user='wbauer_adb', password='adb2020')\n",
    "film_same_length=pd.read_sql('SELECT length, count(title) from film GROUP BY length ORDER BY length',con=connection)\n",
    "print(film_same_length)"
   ]
  },
  {
   "cell_type": "code",
   "execution_count": 5,
   "metadata": {},
   "outputs": [
    {
     "name": "stdout",
     "output_type": "stream",
     "text": [
      "                     city  count\n",
      "0                  London      2\n",
      "1                  Aurora      2\n",
      "2               Molodetno      1\n",
      "3                 Yerevan      1\n",
      "4    Vitria de Santo Anto      1\n",
      "..                    ...    ...\n",
      "592          Garden Grove      1\n",
      "593          Novoterkassk      1\n",
      "594               Asuncin      1\n",
      "595              Maracabo      1\n",
      "596            Rae Bareli      1\n",
      "\n",
      "[597 rows x 2 columns]\n"
     ]
    }
   ],
   "source": [
    "#ZAD2\n",
    "same_country = pd.read_sql('SELECT city.city, COUNT(customer.last_name) \\\n",
    "                            FROM customer \\\n",
    "                            INNER JOIN address ON customer.address_id = address.address_id \\\n",
    "                            INNER JOIN city ON address.city_id = city.city_id \\\n",
    "                            GROUP BY city.city \\\n",
    "                            ORDER BY COUNT(customer.last_name) DESC', con=connection)\n",
    "print(same_country)"
   ]
  },
  {
   "cell_type": "code",
   "execution_count": 6,
   "metadata": {},
   "outputs": [
    {
     "name": "stdout",
     "output_type": "stream",
     "text": [
      "        avg\n",
      "0  4.200606\n"
     ]
    }
   ],
   "source": [
    "#ZAD3\n",
    "avg_cost = pd.read_sql(\"SELECT AVG(payment.amount) FROM payment\", con=connection)\n",
    "print(avg_cost)"
   ]
  },
  {
   "cell_type": "code",
   "execution_count": 7,
   "metadata": {},
   "outputs": [
    {
     "name": "stdout",
     "output_type": "stream",
     "text": [
      "           name  count\n",
      "0        Action     64\n",
      "1     Animation     66\n",
      "2      Children     60\n",
      "3      Classics     57\n",
      "4        Comedy     58\n",
      "5   Documentary     68\n",
      "6         Drama     62\n",
      "7        Family     69\n",
      "8       Foreign     73\n",
      "9         Games     61\n",
      "10       Horror     56\n",
      "11        Music     51\n",
      "12          New     63\n",
      "13       Sci-Fi     61\n",
      "14       Sports     74\n",
      "15       Travel     57\n"
     ]
    }
   ],
   "source": [
    "#ZAD4\n",
    "number_in_categories = pd.read_sql(\"SELECT category.name, COUNT(category.name) \\\n",
    "                                    FROM film \\\n",
    "                                    INNER JOIN film_category \\\n",
    "                                    ON film.film_id = film_category.film_id \\\n",
    "                                    INNER JOIN category \\\n",
    "                                    ON film_category.category_id = category.category_id \\\n",
    "                                    GROUP BY category.name \\\n",
    "                                    ORDER BY category.name\", con=connection)\n",
    "\n",
    "print(number_in_categories)"
   ]
  },
  {
   "cell_type": "code",
   "execution_count": 8,
   "metadata": {},
   "outputs": [
    {
     "name": "stdout",
     "output_type": "stream",
     "text": [
      "           country  count\n",
      "0            India     60\n",
      "1            China     53\n",
      "2    United States     36\n",
      "3            Japan     31\n",
      "4           Mexico     30\n",
      "..             ...    ...\n",
      "103        Hungary      1\n",
      "104    New Zealand      1\n",
      "105        Senegal      1\n",
      "106      Greenland      1\n",
      "107          Tonga      1\n",
      "\n",
      "[108 rows x 2 columns]\n"
     ]
    }
   ],
   "source": [
    "#ZAD5\n",
    "customers= pd.read_sql(\"SELECT country.country, count(customer.last_name) \\\n",
    "                        FROM customer \\\n",
    "                        INNER JOIN address ON customer.address_id = address.address_id \\\n",
    "                        INNER JOIN city ON address.city_id = city.city_id \\\n",
    "                        INNER JOIN country ON city.country_id = country.country_id \\\n",
    "                        GROUP BY country.country \\\n",
    "                        ORDER BY count(customer.last_name) DESC\",con=connection)\n",
    "print(customers)"
   ]
  },
  {
   "cell_type": "code",
   "execution_count": 9,
   "metadata": {},
   "outputs": [
    {
     "name": "stdout",
     "output_type": "stream",
     "text": [
      "   store_id  count\n",
      "0         2    273\n"
     ]
    }
   ],
   "source": [
    "#ZAD6\n",
    "store = pd.read_sql(\"SELECT store.store_id, COUNT(customer.customer_id) \\\n",
    "                    FROM customer \\\n",
    "                    INNER JOIN store \\\n",
    "                    ON customer.store_id = store.store_id \\\n",
    "                    GROUP BY store.store_id \\\n",
    "                    HAVING COUNT(*) BETWEEN 100 AND 300\", con=connection)\n",
    "\n",
    "print(store)"
   ]
  },
  {
   "cell_type": "code",
   "execution_count": 10,
   "metadata": {},
   "outputs": [
    {
     "name": "stdout",
     "output_type": "stream",
     "text": [
      "Empty DataFrame\n",
      "Columns: [first_name, last_name, watched]\n",
      "Index: []\n"
     ]
    }
   ],
   "source": [
    "#ZAD7\n",
    "over_200= pd.read_sql(\"SELECT customer.first_name, customer.last_name, SUM(film.length) as watched \\\n",
    "                        FROM customer \\\n",
    "                        INNER JOIN rental ON customer.customer_id = rental.customer_id \\\n",
    "                        INNER JOIN inventory ON rental.inventory_id = inventory.inventory_id \\\n",
    "                        INNER JOIN film ON inventory.film_id = film.film_id \\\n",
    "                        GROUP BY customer.customer_id \\\n",
    "                        HAVING SUM(film.length) > 200*60\",con=connection)\n",
    "print(over_200)"
   ]
  },
  {
   "cell_type": "code",
   "execution_count": 11,
   "metadata": {},
   "outputs": [
    {
     "name": "stdout",
     "output_type": "stream",
     "text": [
      "        avg\n",
      "0  4.200606\n"
     ]
    }
   ],
   "source": [
    "#ZAD8\n",
    "avg_cost = pd.read_sql(\"SELECT AVG(payment.amount) FROM payment\", con=connection)\n",
    "print(avg_cost)"
   ]
  },
  {
   "cell_type": "code",
   "execution_count": 12,
   "metadata": {},
   "outputs": [
    {
     "name": "stdout",
     "output_type": "stream",
     "text": [
      "           name         avg\n",
      "0        Sci-Fi  108.196721\n",
      "1   Documentary  108.750000\n",
      "2      Children  109.800000\n",
      "3     Animation  111.015152\n",
      "4           New  111.126984\n",
      "5        Action  111.609375\n",
      "6      Classics  111.666667\n",
      "7        Horror  112.482143\n",
      "8        Travel  113.315789\n",
      "9         Music  113.647059\n",
      "10       Family  114.782609\n",
      "11       Comedy  115.827586\n",
      "12        Drama  120.838710\n",
      "13      Foreign  121.698630\n",
      "14        Games  127.836066\n",
      "15       Sports  128.202703\n"
     ]
    }
   ],
   "source": [
    "#ZAD9\n",
    "length_in_categories = pd.read_sql(\"SELECT category.name, AVG(film.length) \\\n",
    "                                    FROM film \\\n",
    "                                    INNER JOIN film_category \\\n",
    "                                    ON film.film_id = film_category.film_id \\\n",
    "                                    INNER JOIN category \\\n",
    "                                    ON film_category.category_id = category.category_id \\\n",
    "                                    GROUP BY category.name \\\n",
    "                                    ORDER BY AVG(film.length)\", con=connection)\n",
    "\n",
    "print(length_in_categories)"
   ]
  },
  {
   "cell_type": "code",
   "execution_count": 13,
   "metadata": {},
   "outputs": [
    {
     "name": "stdout",
     "output_type": "stream",
     "text": [
      "           name  max\n",
      "0        Sci-Fi   20\n",
      "1      Children   20\n",
      "2       Foreign   20\n",
      "3         Games   21\n",
      "4           New   21\n",
      "5         Music   22\n",
      "6   Documentary   22\n",
      "7        Family   22\n",
      "8     Animation   22\n",
      "9         Drama   22\n",
      "10       Travel   23\n",
      "11       Comedy   23\n",
      "12     Classics   23\n",
      "13       Action   23\n",
      "14       Sports   25\n",
      "15       Horror   27\n"
     ]
    }
   ],
   "source": [
    "#ZAD10\n",
    "length_in_categories = pd.read_sql(\"SELECT category.name, MAX(LENGTH(film.title)) \\\n",
    "                                    FROM film \\\n",
    "                                    INNER JOIN film_category \\\n",
    "                                    ON film.film_id = film_category.film_id \\\n",
    "                                    INNER JOIN category \\\n",
    "                                    ON film_category.category_id = category.category_id \\\n",
    "                                    GROUP BY category.name \\\n",
    "                                    ORDER BY MAX(LENGTH(film.title))\", con=connection)\n",
    "\n",
    "print(length_in_categories)"
   ]
  },
  {
   "cell_type": "code",
   "execution_count": 14,
   "metadata": {},
   "outputs": [
    {
     "name": "stdout",
     "output_type": "stream",
     "text": [
      "           name  max\n",
      "0     Animation  185\n",
      "1        Sci-Fi  185\n",
      "2        Comedy  185\n",
      "3         Games  185\n",
      "4        Travel  185\n",
      "5         Music  185\n",
      "6        Action  185\n",
      "7        Family  184\n",
      "8        Sports  184\n",
      "9       Foreign  184\n",
      "10     Classics  184\n",
      "11          New  183\n",
      "12  Documentary  183\n",
      "13       Horror  181\n",
      "14        Drama  181\n",
      "15     Children  178\n"
     ]
    }
   ],
   "source": [
    "#ZAD11\n",
    "length_of_films_in_categories = pd.read_sql(\"SELECT category.name, MAX(film.length) \\\n",
    "                                    FROM film \\\n",
    "                                    INNER JOIN film_category \\\n",
    "                                    ON film.film_id = film_category.film_id \\\n",
    "                                    INNER JOIN category \\\n",
    "                                    ON film_category.category_id = category.category_id \\\n",
    "                                    GROUP BY category.name \\\n",
    "                                    ORDER BY MAX(film.length) DESC\", con=connection)\n",
    "\n",
    "print(length_of_films_in_categories)"
   ]
  },
  {
   "cell_type": "code",
   "execution_count": null,
   "metadata": {},
   "outputs": [],
   "source": []
  }
 ],
 "metadata": {
  "kernelspec": {
   "display_name": "Python 3",
   "language": "python",
   "name": "python3"
  },
  "language_info": {
   "codemirror_mode": {
    "name": "ipython",
    "version": 3
   },
   "file_extension": ".py",
   "mimetype": "text/x-python",
   "name": "python",
   "nbconvert_exporter": "python",
   "pygments_lexer": "ipython3",
   "version": "3.7.4"
  }
 },
 "nbformat": 4,
 "nbformat_minor": 2
}
